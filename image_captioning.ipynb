{
  "nbformat": 4,
  "nbformat_minor": 0,
  "metadata": {
    "colab": {
      "provenance": [],
      "authorship_tag": "ABX9TyMKCeRCLnBlTCkGNiuhLi28",
      "include_colab_link": true
    },
    "kernelspec": {
      "name": "python3",
      "display_name": "Python 3"
    },
    "language_info": {
      "name": "python"
    }
  },
  "cells": [
    {
      "cell_type": "markdown",
      "metadata": {
        "id": "view-in-github",
        "colab_type": "text"
      },
      "source": [
        "<a href=\"https://colab.research.google.com/github/devi91699/Chatbot/blob/main/image_captioning.ipynb\" target=\"_parent\"><img src=\"https://colab.research.google.com/assets/colab-badge.svg\" alt=\"Open In Colab\"/></a>"
      ]
    },
    {
      "cell_type": "code",
      "source": [
        "import tensorflow as tf\n",
        "from tensorflow.keras.preprocessing import image\n",
        "from tensorflow.keras.applications.resnet50 import preprocess_input\n",
        "from tensorflow.keras.applications import ResNet50\n",
        "from tensorflow.keras.models import Model\n",
        "from tensorflow.keras.layers import Input, Dense, Embedding, LSTM\n",
        "from tensorflow.keras.preprocessing.text import Tokenizer\n",
        "from tensorflow.keras.preprocessing.sequence import pad_sequences\n",
        "from nltk.translate.bleu_score import corpus_bleu\n",
        "import numpy as np\n",
        "from PIL import Image\n",
        "import os\n",
        "\n",
        "# Define your dataset and captions\n",
        "captions = [...]  # Replace with your captions\n",
        "image_data = [...]  # Replace with your image data\n",
        "\n",
        "# Load pre-trained ResNet model without top (classification) layer\n",
        "base_model = ResNet50(weights='imagenet', include_top=False, input_tensor=Input(shape=(224, 224, 3)))\n",
        "\n",
        "# Freeze the convolutional layers\n",
        "for layer in base_model.layers:\n",
        "    layer.trainable = False\n",
        "\n",
        "import tensorflow as tf\n",
        "from tensorflow.keras.preprocessing import image\n",
        "from tensorflow.keras.applications.resnet50 import preprocess_input\n",
        "from tensorflow.keras.applications import ResNet50\n",
        "from tensorflow.keras.models import Model\n",
        "from tensorflow.keras.layers import Input, Dense, Embedding, LSTM\n",
        "from tensorflow.keras.preprocessing.text import Tokenizer\n",
        "from tensorflow.keras.preprocessing.sequence import pad_sequences\n",
        "from nltk.translate.bleu_score import corpus_bleu\n",
        "import numpy as np\n",
        "from PIL import Image\n",
        "import os\n",
        "\n",
        "# Define your dataset and captions\n",
        "captions = [...]  # Replace with your captions\n",
        "image_data = [...]  # Replace with your image data\n",
        "\n",
        "# Load pre-trained ResNet model without top (classification) layer\n",
        "base_model = ResNet50(weights='imagenet', include_top=False, input_tensor=Input(shape=(224, 224, 3)))\n",
        "\n",
        "# Freeze the convolutional layers\n",
        "for layer in base_model.layers:\n",
        "    layer.trainable = False\n",
        "\n",
        "# Define the image captioning model\n",
        "vocab_size = 10000  # Define your vocabulary size\n",
        "embedding_dim = 256  # Define your embedding dimension\n",
        "max_seq_length = 20  # Define your maximum sequence length\n",
        "\n",
        "image_input = Input(shape=(224, 224, 3))\n",
        "encoded_image = base_model(image_input)\n",
        "flatten = tf.keras.layers.Flatten()(encoded_image)\n",
        "dense = Dense(256, activation='relu')(flatten)\n",
        "\n",
        "caption_input = Input(shape=(max_seq_length,))\n",
        "embedding_layer = Embedding(vocab_size, embedding_dim, input_length=max_seq_length)(caption_input)\n",
        "lstm_layer = LSTM(256)(embedding_layer)\n",
        "\n",
        "decoder = tf.keras.layers.add([dense, lstm_layer])\n",
        "output = Dense(vocab_size, activation='softmax')(decoder)\n",
        "\n",
        "model = Model(inputs=[image_input, caption_input], outputs=output)\n",
        "model.compile(loss='categorical_crossentropy', optimizer='adam')\n",
        "\n",
        "# Print the model summary\n",
        "model.summary()\n",
        "\n",
        "# Tokenize"
      ],
      "metadata": {
        "colab": {
          "base_uri": "https://localhost:8080/"
        },
        "id": "XSSH5Snqo5cT",
        "outputId": "cfa6e689-59bc-4ee7-9450-01cb268199d6"
      },
      "execution_count": 3,
      "outputs": [
        {
          "output_type": "stream",
          "name": "stdout",
          "text": [
            "Downloading data from https://storage.googleapis.com/tensorflow/keras-applications/resnet/resnet50_weights_tf_dim_ordering_tf_kernels_notop.h5\n",
            "94765736/94765736 [==============================] - 1s 0us/step\n",
            "Model: \"model\"\n",
            "__________________________________________________________________________________________________\n",
            " Layer (type)                Output Shape                 Param #   Connected to                  \n",
            "==================================================================================================\n",
            " input_3 (InputLayer)        [(None, 224, 224, 3)]        0         []                            \n",
            "                                                                                                  \n",
            " resnet50 (Functional)       (None, 7, 7, 2048)           2358771   ['input_3[0][0]']             \n",
            "                                                          2                                       \n",
            "                                                                                                  \n",
            " input_4 (InputLayer)        [(None, 20)]                 0         []                            \n",
            "                                                                                                  \n",
            " flatten (Flatten)           (None, 100352)               0         ['resnet50[0][0]']            \n",
            "                                                                                                  \n",
            " embedding (Embedding)       (None, 20, 256)              2560000   ['input_4[0][0]']             \n",
            "                                                                                                  \n",
            " dense (Dense)               (None, 256)                  2569036   ['flatten[0][0]']             \n",
            "                                                          8                                       \n",
            "                                                                                                  \n",
            " lstm (LSTM)                 (None, 256)                  525312    ['embedding[0][0]']           \n",
            "                                                                                                  \n",
            " add (Add)                   (None, 256)                  0         ['dense[0][0]',               \n",
            "                                                                     'lstm[0][0]']                \n",
            "                                                                                                  \n",
            " dense_1 (Dense)             (None, 10000)                2570000   ['add[0][0]']                 \n",
            "                                                                                                  \n",
            "==================================================================================================\n",
            "Total params: 54933392 (209.55 MB)\n",
            "Trainable params: 31345680 (119.57 MB)\n",
            "Non-trainable params: 23587712 (89.98 MB)\n",
            "__________________________________________________________________________________________________\n"
          ]
        }
      ]
    }
  ]
}